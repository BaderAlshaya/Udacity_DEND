{
 "cells": [
  {
   "cell_type": "markdown",
   "metadata": {
    "editable": true
   },
   "source": [
    "# Part I. ETL Pipeline for Pre-Processing the Files"
   ]
  },
  {
   "cell_type": "markdown",
   "metadata": {
    "editable": true
   },
   "source": [
    "PLEASE RUN THE FOLLOWING CODE FOR PRE-PROCESSING THE FILES"
   ]
  },
  {
   "cell_type": "markdown",
   "metadata": {
    "editable": true
   },
   "source": [
    "#### Import Python packages "
   ]
  },
  {
   "cell_type": "code",
   "execution_count": 1,
   "metadata": {
    "editable": true
   },
   "outputs": [],
   "source": [
    "# Import Python packages \n",
    "import os\n",
    "import csv\n",
    "import glob\n",
    "from cassandra.cluster import Cluster"
   ]
  },
  {
   "cell_type": "markdown",
   "metadata": {
    "editable": true
   },
   "source": [
    "#### Creating list of filepaths to process original event csv data files"
   ]
  },
  {
   "cell_type": "code",
   "execution_count": 2,
   "metadata": {
    "editable": true
   },
   "outputs": [
    {
     "name": "stdout",
     "output_type": "stream",
     "text": [
      "The current working directory: /home/workspace\n",
      "Total filepaths collected: 30\n",
      "1 /home/workspace/data/event_data/2018-11-01-events.csv\n",
      "2 /home/workspace/data/event_data/2018-11-02-events.csv\n",
      "3 /home/workspace/data/event_data/2018-11-03-events.csv\n",
      "4 /home/workspace/data/event_data/2018-11-04-events.csv\n",
      "5 /home/workspace/data/event_data/2018-11-05-events.csv\n",
      "6 /home/workspace/data/event_data/2018-11-06-events.csv\n",
      "7 /home/workspace/data/event_data/2018-11-07-events.csv\n",
      "8 /home/workspace/data/event_data/2018-11-08-events.csv\n",
      "9 /home/workspace/data/event_data/2018-11-09-events.csv\n",
      "10 /home/workspace/data/event_data/2018-11-10-events.csv\n",
      "11 /home/workspace/data/event_data/2018-11-11-events.csv\n",
      "12 /home/workspace/data/event_data/2018-11-12-events.csv\n",
      "13 /home/workspace/data/event_data/2018-11-13-events.csv\n",
      "14 /home/workspace/data/event_data/2018-11-14-events.csv\n",
      "15 /home/workspace/data/event_data/2018-11-15-events.csv\n",
      "16 /home/workspace/data/event_data/2018-11-16-events.csv\n",
      "17 /home/workspace/data/event_data/2018-11-17-events.csv\n",
      "18 /home/workspace/data/event_data/2018-11-18-events.csv\n",
      "19 /home/workspace/data/event_data/2018-11-19-events.csv\n",
      "20 /home/workspace/data/event_data/2018-11-20-events.csv\n",
      "21 /home/workspace/data/event_data/2018-11-21-events.csv\n",
      "22 /home/workspace/data/event_data/2018-11-22-events.csv\n",
      "23 /home/workspace/data/event_data/2018-11-23-events.csv\n",
      "24 /home/workspace/data/event_data/2018-11-24-events.csv\n",
      "25 /home/workspace/data/event_data/2018-11-25-events.csv\n",
      "26 /home/workspace/data/event_data/2018-11-26-events.csv\n",
      "27 /home/workspace/data/event_data/2018-11-27-events.csv\n",
      "28 /home/workspace/data/event_data/2018-11-28-events.csv\n",
      "29 /home/workspace/data/event_data/2018-11-29-events.csv\n",
      "30 /home/workspace/data/event_data/2018-11-30-events.csv\n"
     ]
    }
   ],
   "source": [
    "# checking your current working directory\n",
    "print('The current working directory:', os.getcwd())\n",
    "\n",
    "# Get your current folder and subfolder event data\n",
    "filepath = os.getcwd() + '/data/event_data'\n",
    "\n",
    "# Create a for loop to create a list of files and collect each filepath\n",
    "file_path_list = ''\n",
    "for root, dirs, files in os.walk(filepath):\n",
    "    \n",
    "    # Join the file path and roots with the subdirectories using glob\n",
    "    file_path_list = glob.glob(os.path.join(root,'*'))\n",
    "    \n",
    "    # Sort the collected list of paths\n",
    "    file_path_list.sort()\n",
    "    \n",
    "    # Print the total number of paths collected\n",
    "    print('Total filepaths collected:', len(file_path_list))\n",
    "    \n",
    "    # Print the list of filepaths that have been collected\n",
    "    for count, path in enumerate(file_path_list):\n",
    "        print(count+1, path)\n",
    "    \n",
    "    # Ignore the .ipynb_checkpoints hidden subdirectory\n",
    "    break"
   ]
  },
  {
   "cell_type": "markdown",
   "metadata": {
    "editable": true
   },
   "source": [
    "#### Processing the files to create the data file csv that will be used for Apache Casssandra tables"
   ]
  },
  {
   "cell_type": "code",
   "execution_count": 3,
   "metadata": {
    "editable": true
   },
   "outputs": [
    {
     "name": "stdout",
     "output_type": "stream",
     "text": [
      "The total number of rows:  8056\n",
      "The total number of excluded rows: 1236\n"
     ]
    }
   ],
   "source": [
    "# initiating an empty list of rows that will be generated from each file\n",
    "full_data_rows_list = [] \n",
    "    \n",
    "# for every filepath in the filepath list \n",
    "for f in file_path_list:\n",
    "\n",
    "    # reading csv file \n",
    "    with open(f, 'r', encoding = 'utf8', newline='') as csvfile: \n",
    "        # creating a csv reader object \n",
    "        csvreader = csv.reader(csvfile) \n",
    "        next(csvreader)\n",
    "        \n",
    "        # extracting each data row one by one and append it        \n",
    "        for line in csvreader:\n",
    "            full_data_rows_list.append(line) \n",
    "            \n",
    "# Get the total number of rows \n",
    "print('The total number of rows: ', len(full_data_rows_list))\n",
    "\n",
    "# Creating a smaller event data csv file called event_datafile_new.csv that will \n",
    "# be used to insert data into the Apache Cassandra tables\n",
    "csv.register_dialect('myDialect', quoting=csv.QUOTE_ALL, skipinitialspace=True)\n",
    "\n",
    "with open('event_datafile_new.csv', 'w', encoding = 'utf8', newline='') as f:\n",
    "    writer = csv.writer(f, dialect='myDialect')\n",
    "    writer.writerow(['artist','firstName','gender','itemInSession','lastName',\\\n",
    "                     'length','level','location','sessionId','song','userId'])\n",
    "    \n",
    "    # Only include data that contains an artist name\n",
    "    count = 0\n",
    "    for row in full_data_rows_list:\n",
    "        if (row[0] == ''):\n",
    "            count += 1\n",
    "            continue\n",
    "        writer.writerow((row[0], row[2], row[3], row[4], row[5], row[6], row[7], row[8], row[12], row[13], row[16]))\n",
    "    \n",
    "    print('The total number of excluded rows:', count)"
   ]
  },
  {
   "cell_type": "code",
   "execution_count": 4,
   "metadata": {
    "editable": true
   },
   "outputs": [
    {
     "name": "stdout",
     "output_type": "stream",
     "text": [
      "6821\n"
     ]
    }
   ],
   "source": [
    "# Check the number of rows in your csv file\n",
    "with open('event_datafile_new.csv', 'r', encoding = 'utf8') as f:\n",
    "    print(sum(1 for line in f))"
   ]
  },
  {
   "cell_type": "markdown",
   "metadata": {
    "editable": true
   },
   "source": [
    "# Part II. Complete the Apache Cassandra coding portion of your project. \n",
    "\n",
    "Now you are ready to work with the CSV file titled <font color=red>event_datafile_new.csv</font>, located within the Workspace directory.  The event_datafile_new.csv contains the following columns: \n",
    "- artist \n",
    "- firstName of user\n",
    "- gender of user\n",
    "- item number in session\n",
    "- last name of user\n",
    "- length of the song\n",
    "- level (paid or free song)\n",
    "- location of the user\n",
    "- sessionId\n",
    "- song title\n",
    "- userId\n",
    "\n",
    "The image below is a screenshot of what the denormalized data should appear like in the <font color=red>**event_datafile_new.csv**</font> after the code above is run:<br>\n",
    "\n",
    "<img src=\"assets/images/image_event_datafile_new.jpg\">"
   ]
  },
  {
   "cell_type": "markdown",
   "metadata": {
    "editable": true
   },
   "source": [
    "## Begin writing your Apache Cassandra code in the cells below"
   ]
  },
  {
   "cell_type": "markdown",
   "metadata": {
    "editable": true
   },
   "source": [
    "#### Creating a Cluster"
   ]
  },
  {
   "cell_type": "code",
   "execution_count": 5,
   "metadata": {
    "editable": true
   },
   "outputs": [],
   "source": [
    "# This should make a connection to a Cassandra instance your local machine \n",
    "# (127.0.0.1)\n",
    "cluster = Cluster(['127.0.0.1'])\n",
    "\n",
    "# To establish connection and begin executing queries, need a session\n",
    "session = cluster.connect()"
   ]
  },
  {
   "cell_type": "markdown",
   "metadata": {
    "editable": true
   },
   "source": [
    "#### Create Keyspace"
   ]
  },
  {
   "cell_type": "code",
   "execution_count": 6,
   "metadata": {
    "editable": true
   },
   "outputs": [],
   "source": [
    "# Create a Keyspace\n",
    "try:\n",
    "    session.execute(\"\"\"\n",
    "    CREATE KEYSPACE IF NOT EXISTS sparkifydb\n",
    "    WITH REPLICATION = { 'class' : 'SimpleStrategy', 'replication_factor' : 1 }\n",
    "                    \"\"\")\n",
    "except Exception as e:\n",
    "    print (e)"
   ]
  },
  {
   "cell_type": "markdown",
   "metadata": {
    "editable": true
   },
   "source": [
    "#### Set Keyspace"
   ]
  },
  {
   "cell_type": "code",
   "execution_count": 7,
   "metadata": {
    "editable": true
   },
   "outputs": [],
   "source": [
    "# Set KEYSPACE to the keyspace specified above\n",
    "try:\n",
    "    session.set_keyspace('sparkifydb')\n",
    "except Exception as e:\n",
    "    print (e)\n"
   ]
  },
  {
   "cell_type": "markdown",
   "metadata": {
    "editable": true
   },
   "source": [
    "Now we need to create tables to run the following queries. Remember, with Apache Cassandra you model the database tables on the queries you want to run."
   ]
  },
  {
   "cell_type": "markdown",
   "metadata": {
    "editable": true
   },
   "source": [
    "### Create queries to ask the following three questions of the data\n",
    "\n",
    "1. **Query 1:** Give me the artist, song title and song's length in the music app history that was heard during  sessionId = 338, and itemInSession  = 4\n",
    "\n",
    "\n",
    "2. **Query 2:** Give me only the following: name of artist, song (sorted by itemInSession) and user (first and last name) for userid = 10, sessionid = 182\n",
    "\n",
    "\n",
    "3. **Query 3:** Give me every user name (first and last) in my music app history who listened to the song 'All Hands Against His Own'\n",
    "\n",
    "\n"
   ]
  },
  {
   "cell_type": "code",
   "execution_count": 8,
   "metadata": {
    "editable": true
   },
   "outputs": [],
   "source": [
    "# Query 1\n",
    "# Create Table\n",
    "query = \"CREATE TABLE IF NOT EXISTS session_item_events \"\n",
    "query += \"(sessionId int, itemInSession int, \\\n",
    "             artist varchar, song varchar, length float, \\\n",
    "             PRIMARY KEY (sessionId, itemInSession))\"\n",
    "try:\n",
    "    session.execute(query)\n",
    "except Exception as e:\n",
    "    print (e)"
   ]
  },
  {
   "cell_type": "code",
   "execution_count": 9,
   "metadata": {
    "editable": true
   },
   "outputs": [],
   "source": [
    "# Insert data from CSV\n",
    "file = 'event_datafile_new.csv'\n",
    "\n",
    "with open(file, encoding = 'utf8') as f:\n",
    "    csvreader = csv.reader(f)\n",
    "    \n",
    "    # Skip header\n",
    "    columns = next(csvreader)\n",
    "        \n",
    "    for line in csvreader:\n",
    "        \n",
    "        # Assign the INSERT statements into the `query` variable\n",
    "        query = \"INSERT INTO session_item_events \"\n",
    "        query += \"(sessionId, itemInSession, artist, song, length)\"\n",
    "        query += \"VALUES (%s, %s, %s, %s, %s)\"\n",
    "\n",
    "        # Assign which column element should be assigned for each column in the INSERT statement.\n",
    "        try:\n",
    "            session.execute(query, (int(line[columns.index(\"sessionId\")]), \n",
    "                                int(line[columns.index(\"itemInSession\")]),\n",
    "                                line[columns.index(\"artist\")], \n",
    "                                line[columns.index(\"song\")], \n",
    "                                float(line[columns.index(\"length\")])))\n",
    "        except Exception as e:\n",
    "            print(e)"
   ]
  },
  {
   "cell_type": "markdown",
   "metadata": {
    "editable": true
   },
   "source": [
    "#### Do a SELECT to verify that the data have been inserted into each table"
   ]
  },
  {
   "cell_type": "markdown",
   "metadata": {
    "editable": true
   },
   "source": [
    "For table session_item_events, the sessionId was used as a partition key because the queries will filter by this column. The itemInSession was used as a clustering column to help make up a unique key."
   ]
  },
  {
   "cell_type": "code",
   "execution_count": 10,
   "metadata": {
    "editable": true,
    "scrolled": true
   },
   "outputs": [
    {
     "name": "stdout",
     "output_type": "stream",
     "text": [
      "----------------\n",
      "Artist: Faithless\n",
      "Song: Music Matters (Mark Knight Dub)\n",
      "Length: 495.30731201171875\n",
      "----------------\n"
     ]
    }
   ],
   "source": [
    "# Add in the SELECT statement to verify the data was entered into the table\n",
    "query = \"SELECT artist, song, length from session_item_events \"\n",
    "query += \"WHERE sessionId = 338 and itemInSession = 4 ;\"\n",
    "\n",
    "try:\n",
    "    rows = session.execute(query)\n",
    "except Exception as e:\n",
    "    print (e)\n",
    "    \n",
    "print ('----------------')\n",
    "for row in rows:\n",
    "    print (\"Artist:\", row.artist)\n",
    "    print (\"Song:\", row.song)\n",
    "    print (\"Length:\", row.length)\n",
    "    print ('----------------')"
   ]
  },
  {
   "cell_type": "markdown",
   "metadata": {
    "editable": true
   },
   "source": [
    "### REPEAT THE ABOVE THREE CELLS FOR THE REMAINING QUERYS"
   ]
  },
  {
   "cell_type": "code",
   "execution_count": 11,
   "metadata": {
    "editable": true
   },
   "outputs": [],
   "source": [
    "# Query 2\n",
    "# Create Table\n",
    "query = \"CREATE TABLE IF NOT EXISTS user_session_item_events \"\n",
    "query += \"(userId int, sessionId int, itemInSession int, \\\n",
    "             firstName varchar, lastName varchar, \\\n",
    "             artist varchar, song varchar, PRIMARY KEY \\\n",
    "             (userId, sessionId, itemInSession))\"\n",
    "try:\n",
    "    session.execute(query)\n",
    "except Exception as e:\n",
    "    print (e)"
   ]
  },
  {
   "cell_type": "code",
   "execution_count": 12,
   "metadata": {
    "editable": true
   },
   "outputs": [],
   "source": [
    "# Insert data from previous CSV\n",
    "with open(file, encoding = 'utf8') as f:\n",
    "    csvreader = csv.reader(f)\n",
    "    \n",
    "    # Skip header\n",
    "    columns = next(csvreader)\n",
    "        \n",
    "    for line in csvreader:\n",
    "        \n",
    "        # Assign the INSERT statements into the `query` variable\n",
    "        query = \"INSERT INTO user_session_item_events \"\n",
    "        query += \"(userId, sessionId, itemInSession, firstName, lastName, artist, song)\"\n",
    "        query += \"VALUES (%s, %s, %s, %s, %s, %s, %s)\"\n",
    "\n",
    "        # Assign which column element should be assigned for each column in the INSERT statement.\n",
    "        try:\n",
    "            session.execute(query, (int(line[columns.index(\"userId\")]), \n",
    "                                    int(line[columns.index(\"sessionId\")]), \n",
    "                                    int(line[columns.index(\"itemInSession\")]), \n",
    "                                    line[columns.index(\"firstName\")], \n",
    "                                    line[columns.index(\"lastName\")], \n",
    "                                    line[columns.index(\"artist\")], \n",
    "                                    line[columns.index(\"song\")]))\n",
    "        except Exception as e:\n",
    "            print(e)"
   ]
  },
  {
   "cell_type": "markdown",
   "metadata": {
    "editable": true
   },
   "source": [
    "For table user_session_item_events, the userId was used as a partition key because the queries will filter by this column. The sessionId and itemInSession were used as clustering columns to help make up a unique key."
   ]
  },
  {
   "cell_type": "code",
   "execution_count": 13,
   "metadata": {
    "editable": true
   },
   "outputs": [
    {
     "name": "stdout",
     "output_type": "stream",
     "text": [
      "----------------\n",
      "Artist: Down To The Bone\n",
      "Song Keep On Keepin' On\n",
      "First Name: Sylvie\n",
      "Last Name: Cruz\n",
      "----------------\n",
      "Artist: Three Drives\n",
      "Song Greece 2000\n",
      "First Name: Sylvie\n",
      "Last Name: Cruz\n",
      "----------------\n",
      "Artist: Sebastien Tellier\n",
      "Song Kilometer\n",
      "First Name: Sylvie\n",
      "Last Name: Cruz\n",
      "----------------\n",
      "Artist: Lonnie Gordon\n",
      "Song Catch You Baby (Steve Pitron & Max Sanna Radio Edit)\n",
      "First Name: Sylvie\n",
      "Last Name: Cruz\n",
      "----------------\n"
     ]
    }
   ],
   "source": [
    "# Add in the SELECT statement to verify the data was entered into the table\n",
    "query = \"SELECT artist, song, firstName, lastName from user_session_item_events \"\n",
    "query += \"WHERE userId = 10 and sessionId = 182 ;\"\n",
    "\n",
    "try:\n",
    "    rows = session.execute(query)\n",
    "except Exception as e:\n",
    "    print (e)\n",
    "\n",
    "print ('----------------')\n",
    "for row in rows:\n",
    "    print (\"Artist:\", row.artist)\n",
    "    print (\"Song\", row.song)\n",
    "    print (\"First Name:\", row.firstname)\n",
    "    print (\"Last Name:\", row.lastname)\n",
    "    print ('----------------')"
   ]
  },
  {
   "cell_type": "code",
   "execution_count": 14,
   "metadata": {
    "editable": true
   },
   "outputs": [],
   "source": [
    "# Query 3\n",
    "# Create Table\n",
    "query = \"CREATE TABLE IF NOT EXISTS song_user_events \"\n",
    "query += \"(song varchar, userId int, \\\n",
    "             firstName varchar, lastName varchar, \\\n",
    "             PRIMARY KEY (song, userId))\"\n",
    "\n",
    "try:\n",
    "    session.execute(query)\n",
    "except Exception as e:\n",
    "    print (e)"
   ]
  },
  {
   "cell_type": "code",
   "execution_count": 15,
   "metadata": {
    "editable": true
   },
   "outputs": [],
   "source": [
    "# Insert data from previous CSV\n",
    "with open(file, encoding = 'utf8') as f:\n",
    "    csvreader = csv.reader(f)\n",
    "    \n",
    "    # Skip header\n",
    "    columns = next(csvreader)\n",
    "        \n",
    "    for line in csvreader:\n",
    "        \n",
    "        # Assign the INSERT statements into the `query` variable\n",
    "        query = \"INSERT INTO song_user_events \"\n",
    "        query += \"(song, userId, firstName, lastName) \"\n",
    "        query += \"VALUES (%s, %s, %s, %s)\"\n",
    "\n",
    "        # Assign which column element should be assigned for each column in the INSERT statement.\n",
    "        try:\n",
    "            session.execute(query, (line[columns.index(\"song\")], \n",
    "                                    int(line[columns.index(\"userId\")]), \n",
    "                                    line[columns.index(\"firstName\")], \n",
    "                                    line[columns.index(\"lastName\")]))\n",
    "        except Exception as e:\n",
    "            print(e)"
   ]
  },
  {
   "cell_type": "markdown",
   "metadata": {
    "editable": true
   },
   "source": [
    "For table song_user_events, the song was used as a partition key because the queries will filter by this column. The userId length was used as a clustering column to help make up a unique key."
   ]
  },
  {
   "cell_type": "code",
   "execution_count": 16,
   "metadata": {
    "editable": true
   },
   "outputs": [
    {
     "name": "stdout",
     "output_type": "stream",
     "text": [
      "----------------\n",
      "First Name: Jacqueline\n",
      "Last Name: Lynch\n",
      "----------------\n",
      "First Name: Tegan\n",
      "Last Name: Levine\n",
      "----------------\n",
      "First Name: Sara\n",
      "Last Name: Johnson\n",
      "----------------\n"
     ]
    }
   ],
   "source": [
    "# Add in the SELECT statement to verify the data was entered into the table\n",
    "query = \"SELECT firstName, lastName from song_user_events \"\n",
    "query += \"WHERE song = 'All Hands Against His Own' ;\"\n",
    "\n",
    "try:\n",
    "    rows = session.execute(query)\n",
    "except Exception as e:\n",
    "    print (e)\n",
    "    \n",
    "print ('----------------')\n",
    "for row in rows:\n",
    "    print (\"First Name:\", row.firstname)\n",
    "    print (\"Last Name:\", row.lastname)\n",
    "    print ('----------------')"
   ]
  },
  {
   "cell_type": "markdown",
   "metadata": {
    "editable": true
   },
   "source": [
    "### Drop the tables before closing out the sessions"
   ]
  },
  {
   "cell_type": "code",
   "execution_count": 17,
   "metadata": {
    "editable": true
   },
   "outputs": [],
   "source": [
    "# Drop the table before closing out the sessions"
   ]
  },
  {
   "cell_type": "code",
   "execution_count": 18,
   "metadata": {
    "editable": true
   },
   "outputs": [],
   "source": [
    "session.execute('DROP TABLE session_item_events');\n",
    "session.execute('DROP TABLE user_session_item_events');\n",
    "session.execute('DROP TABLE song_user_events');"
   ]
  },
  {
   "cell_type": "markdown",
   "metadata": {
    "editable": true
   },
   "source": [
    "### Close the session and cluster connection¶"
   ]
  },
  {
   "cell_type": "code",
   "execution_count": 19,
   "metadata": {
    "editable": true
   },
   "outputs": [],
   "source": [
    "session.shutdown()\n",
    "cluster.shutdown()"
   ]
  },
  {
   "cell_type": "code",
   "execution_count": null,
   "metadata": {
    "editable": true
   },
   "outputs": [],
   "source": []
  }
 ],
 "metadata": {
  "kernelspec": {
   "display_name": "Python 3",
   "language": "python",
   "name": "python3"
  },
  "language_info": {
   "codemirror_mode": {
    "name": "ipython",
    "version": 3
   },
   "file_extension": ".py",
   "mimetype": "text/x-python",
   "name": "python",
   "nbconvert_exporter": "python",
   "pygments_lexer": "ipython3",
   "version": "3.6.3"
  }
 },
 "nbformat": 4,
 "nbformat_minor": 4
}
